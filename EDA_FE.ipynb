{
 "cells": [
  {
   "cell_type": "code",
   "execution_count": 1,
   "metadata": {},
   "outputs": [
    {
     "data": {
      "text/plain": [
       "'\\n・Create the following concat variables\\n drive*fuel\\n drive*condition\\n drive*size\\n fuel*condition\\n fuel*size\\n condition*size\\n\\n・Use the target encoding for all categorical variables\\n・Conver manufacturer to lower case \\n'"
      ]
     },
     "execution_count": 1,
     "metadata": {},
     "output_type": "execute_result"
    }
   ],
   "source": [
    "# Description\n",
    "'''\n",
    "・Drop rows with missing price values\n",
    "・Create the following concat variables\n",
    "    drive*fuel\n",
    "    drive*condition\n",
    "    drive*size\n",
    "    fuel*condition\n",
    "    fuel*size\n",
    "    condition*size\n",
    "・Conver manufacturer to lower case \n",
    "・Set unrealistic years to average year\n",
    "・Treat extreme values in odometer to be outliers (1e10)\n",
    "・Use the target encoding for all categorical variables\n",
    "'''"
   ]
  },
  {
   "cell_type": "code",
   "execution_count": 14,
   "metadata": {},
   "outputs": [],
   "source": [
    "import pandas as pd\n",
    "import numpy as np\n",
    "import matplotlib.pyplot as plt\n",
    "import sklearn.preprocessing as preprocessing\n",
    "from sklearn.model_selection import train_test_split\n",
    "from sklearn.ensemble import RandomForestClassifier\n",
    "import lightgbm as lgbm\n",
    "from sklearn.metrics import mean_absolute_percentage_error"
   ]
  },
  {
   "cell_type": "code",
   "execution_count": 15,
   "metadata": {},
   "outputs": [],
   "source": [
    "train_df = pd.read_csv('data/train.csv')\n",
    "test_df = pd.read_csv('data/test.csv')"
   ]
  },
  {
   "cell_type": "code",
   "execution_count": 18,
   "metadata": {},
   "outputs": [
    {
     "name": "stdout",
     "output_type": "stream",
     "text": [
      "          id              region  year manufacturer  condition    cylinders  \\\n",
      "44        44           rochester  2008         jeep       fair  6 cylinders   \n",
      "211      211       inland empire  1973    chevrolet       good  8 cylinders   \n",
      "276      276           baltimore  2010          bmw       good  6 cylinders   \n",
      "583      583        rhode island  2010         jeep  excellent  6 cylinders   \n",
      "611      611              merced  2017       subaru   like new  4 cylinders   \n",
      "...      ...                 ...   ...          ...        ...          ...   \n",
      "27036  27036     medford-ashland  2006         ford  excellent  6 cylinders   \n",
      "27138  27138              denver  2011    chevrolet  excellent  6 cylinders   \n",
      "27207  27207         tallahassee  2018          bmw   like new  4 cylinders   \n",
      "27389  27389       orange county  2011         ford   like new  6 cylinders   \n",
      "27498  27498  huntington-ashland  2010    chevrolet       fair  4 cylinders   \n",
      "\n",
      "      fuel  odometer title_status transmission  ...    type paint_color state  \\\n",
      "44     gas        -1        clean    automatic  ...     SUV       black    ny   \n",
      "211    gas        -1        clean       manual  ...   coupe       black    ca   \n",
      "276    gas        -1        clean    automatic  ...   sedan       brown    md   \n",
      "583    gas        -1        clean    automatic  ...     SUV        blue    ri   \n",
      "611    gas        -1        clean    automatic  ...   wagon       black   NaN   \n",
      "...    ...       ...          ...          ...  ...     ...         ...   ...   \n",
      "27036  gas        -1        clean    automatic  ...  pickup       green    or   \n",
      "27138  gas        -1        clean    automatic  ...  pickup       brown    co   \n",
      "27207  gas        -1        clean    automatic  ...   sedan       black    fl   \n",
      "27389  gas        -1      rebuilt        other  ...   coupe       black   NaN   \n",
      "27498  gas        -1        clean       manual  ...   sedan       green    ca   \n",
      "\n",
      "       price drive_fuel  drive_condition     drive_size fuel_condition  \\\n",
      "44      5077    4wd_gas         4wd_fair  4wd_full-size       gas_fair   \n",
      "211     6335    rwd_gas         rwd_good  rwd_full-size       gas_good   \n",
      "276     5858    fwd_gas         fwd_good   fwd_mid-size       gas_good   \n",
      "583     5122    4wd_gas    4wd_excellent    4wd_compact  gas_excellent   \n",
      "611    16132    4wd_gas     4wd_like new   4wd_mid-size   gas_like new   \n",
      "...      ...        ...              ...            ...            ...   \n",
      "27036  33169    4wd_gas    4wd_excellent  4wd_full-size  gas_excellent   \n",
      "27138  20063    fwd_gas    fwd_excellent  fwd_full-size  gas_excellent   \n",
      "27207  19580    rwd_gas     rwd_like new   rwd_mid-size   gas_like new   \n",
      "27389   7921    rwd_gas     rwd_like new   rwd_mid-size   gas_like new   \n",
      "27498   2315    fwd_gas         fwd_fair   fwd_mid-size       gas_fair   \n",
      "\n",
      "           fuel_size       condition_size  \n",
      "44     gas_full-size       fair_full-size  \n",
      "211    gas_full-size       good_full-size  \n",
      "276     gas_mid-size        good_mid-size  \n",
      "583      gas_compact    excellent_compact  \n",
      "611     gas_mid-size    like new_mid-size  \n",
      "...              ...                  ...  \n",
      "27036  gas_full-size  excellent_full-size  \n",
      "27138  gas_full-size  excellent_full-size  \n",
      "27207   gas_mid-size    like new_mid-size  \n",
      "27389   gas_mid-size    like new_mid-size  \n",
      "27498   gas_mid-size        fair_mid-size  \n",
      "\n",
      "[264 rows x 22 columns]\n"
     ]
    }
   ],
   "source": [
    "# drop rows with missing price (accidentally shifted?)\n",
    "train_df = train_df.dropna(subset=['price'])\n",
    "\n",
    "# create new feature columns\n",
    "train_df['drive_fuel'] = train_df['drive'] + '_' + train_df['fuel']\n",
    "train_df['drive_condition'] = train_df['drive'] + '_' + train_df['condition']\n",
    "train_df['drive_size'] = train_df['drive'] + '_' + train_df['size']\n",
    "train_df['fuel_condition'] = train_df['fuel'] + '_' + train_df['condition']\n",
    "train_df['fuel_size'] = train_df['fuel'] + '_' + train_df['size']\n",
    "train_df['condition_size'] = train_df['condition'] + '_' + train_df['size']\n",
    "\n",
    "# Make manufacturer lowercase\n",
    "train_df['manufacturer'] = train_df['manufacturer'].str.lower()\n",
    "\n",
    "# change unrealistic year values to nan\n",
    "index_to_interpolate = train_df[train_df['year'] > 2023].index\n",
    "train_df.loc[index_to_interpolate, 'year'] = train_df.loc[index_to_interpolate, 'year'].fillna('')\n",
    "\n",
    "# change odometer = -1 to median odometer\n",
    "index_to_interpolate = train_df[train_df['odometer'] == -1].index\n",
    "median_odometer = train_df.loc[train_df['odometer'] != -1, 'odometer'].median()\n",
    "train_df.loc[index_to_interpolate, 'odometer'] = train_df.loc[index_to_interpolate, 'odometer'].fillna(median_odometer)\n",
    "\n",
    "# change -1 > odometer, odometer > 1e6 to 1e10\n",
    "index_to_interpolate = train_df[(train_df['odometer'] < -1e2) | (train_df['odometer'] > 1e6)].index\n",
    "train_df.loc[index_to_interpolate, 'odometer'] = train_df.loc[index_to_interpolate, 'odometer'].fillna(1e10)\n",
    "\n",
    "print(train_df[train_df['odometer'] == -1])\n",
    "\n",
    "train_df.to_csv('model1.csv', index=False)"
   ]
  }
 ],
 "metadata": {
  "kernelspec": {
   "display_name": "Python 3",
   "language": "python",
   "name": "python3"
  },
  "language_info": {
   "codemirror_mode": {
    "name": "ipython",
    "version": 3
   },
   "file_extension": ".py",
   "mimetype": "text/x-python",
   "name": "python",
   "nbconvert_exporter": "python",
   "pygments_lexer": "ipython3",
   "version": "3.11.4"
  },
  "orig_nbformat": 4
 },
 "nbformat": 4,
 "nbformat_minor": 2
}
